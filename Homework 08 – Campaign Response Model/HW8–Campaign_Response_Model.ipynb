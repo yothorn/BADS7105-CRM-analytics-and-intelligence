{
  "nbformat": 4,
  "nbformat_minor": 0,
  "metadata": {
    "colab": {
      "name": "HW8–Campaign_Response_Model.ipynb",
      "provenance": []
    },
    "kernelspec": {
      "name": "python3",
      "display_name": "Python 3"
    },
    "language_info": {
      "name": "python"
    }
  },
  "cells": [
    {
      "cell_type": "markdown",
      "metadata": {
        "id": "EN3JvdAI7X3X"
      },
      "source": [
        "# Homework 08 – Campaign Response Model"
      ]
    },
    {
      "cell_type": "markdown",
      "metadata": {
        "id": "P5WmrDzh7fL4"
      },
      "source": [
        "## Import Library"
      ]
    },
    {
      "cell_type": "code",
      "metadata": {
        "id": "eBs_HSlggGbQ"
      },
      "source": [
        "import numpy as np\n",
        "import pandas as pd\n",
        "\n",
        "import datetime as dt\n",
        "\n",
        "import matplotlib.pyplot as plt\n",
        "\n",
        "from sklearn.model_selection import train_test_split\n",
        "from sklearn.metrics import precision_score, recall_score, f1_score, roc_auc_score, accuracy_score, classification_report, roc_curve, auc\n",
        "from sklearn.metrics import confusion_matrix\n",
        "from sklearn.linear_model import LogisticRegression\n",
        "\n",
        "from imblearn.over_sampling import SMOTE\n",
        "\n",
        "import xgboost as xgb\n",
        "from xgboost import plot_importance"
      ],
      "execution_count": 36,
      "outputs": []
    },
    {
      "cell_type": "markdown",
      "metadata": {
        "id": "MCHetuLM7hlg"
      },
      "source": [
        "## Import Dataset"
      ]
    },
    {
      "cell_type": "code",
      "metadata": {
        "id": "ANtsumIdxIq-"
      },
      "source": [
        "retail_respond = pd.read_csv(\"/content/drive/MyDrive/BADS7105/Retail_Data_Response.csv\")\n",
        "retail_transac = pd.read_csv(\"/content/drive/MyDrive/BADS7105/Retail_Data_Transactions.csv\")"
      ],
      "execution_count": 2,
      "outputs": []
    },
    {
      "cell_type": "code",
      "metadata": {
        "colab": {
          "base_uri": "https://localhost:8080/",
          "height": 0
        },
        "id": "wZtzM2gcxk03",
        "outputId": "da05dc79-2f79-479e-93dc-372addc86cbe"
      },
      "source": [
        "retail_respond.head()"
      ],
      "execution_count": 3,
      "outputs": [
        {
          "output_type": "execute_result",
          "data": {
            "text/html": [
              "<div>\n",
              "<style scoped>\n",
              "    .dataframe tbody tr th:only-of-type {\n",
              "        vertical-align: middle;\n",
              "    }\n",
              "\n",
              "    .dataframe tbody tr th {\n",
              "        vertical-align: top;\n",
              "    }\n",
              "\n",
              "    .dataframe thead th {\n",
              "        text-align: right;\n",
              "    }\n",
              "</style>\n",
              "<table border=\"1\" class=\"dataframe\">\n",
              "  <thead>\n",
              "    <tr style=\"text-align: right;\">\n",
              "      <th></th>\n",
              "      <th>customer_id</th>\n",
              "      <th>response</th>\n",
              "    </tr>\n",
              "  </thead>\n",
              "  <tbody>\n",
              "    <tr>\n",
              "      <th>0</th>\n",
              "      <td>CS1112</td>\n",
              "      <td>0</td>\n",
              "    </tr>\n",
              "    <tr>\n",
              "      <th>1</th>\n",
              "      <td>CS1113</td>\n",
              "      <td>0</td>\n",
              "    </tr>\n",
              "    <tr>\n",
              "      <th>2</th>\n",
              "      <td>CS1114</td>\n",
              "      <td>1</td>\n",
              "    </tr>\n",
              "    <tr>\n",
              "      <th>3</th>\n",
              "      <td>CS1115</td>\n",
              "      <td>1</td>\n",
              "    </tr>\n",
              "    <tr>\n",
              "      <th>4</th>\n",
              "      <td>CS1116</td>\n",
              "      <td>1</td>\n",
              "    </tr>\n",
              "  </tbody>\n",
              "</table>\n",
              "</div>"
            ],
            "text/plain": [
              "  customer_id  response\n",
              "0      CS1112         0\n",
              "1      CS1113         0\n",
              "2      CS1114         1\n",
              "3      CS1115         1\n",
              "4      CS1116         1"
            ]
          },
          "metadata": {
            "tags": []
          },
          "execution_count": 3
        }
      ]
    },
    {
      "cell_type": "code",
      "metadata": {
        "colab": {
          "base_uri": "https://localhost:8080/",
          "height": 0
        },
        "id": "axGsVycyxmr3",
        "outputId": "3ccbd737-a421-4c65-831c-fac6dae07436"
      },
      "source": [
        "retail_transac.head()"
      ],
      "execution_count": 4,
      "outputs": [
        {
          "output_type": "execute_result",
          "data": {
            "text/html": [
              "<div>\n",
              "<style scoped>\n",
              "    .dataframe tbody tr th:only-of-type {\n",
              "        vertical-align: middle;\n",
              "    }\n",
              "\n",
              "    .dataframe tbody tr th {\n",
              "        vertical-align: top;\n",
              "    }\n",
              "\n",
              "    .dataframe thead th {\n",
              "        text-align: right;\n",
              "    }\n",
              "</style>\n",
              "<table border=\"1\" class=\"dataframe\">\n",
              "  <thead>\n",
              "    <tr style=\"text-align: right;\">\n",
              "      <th></th>\n",
              "      <th>customer_id</th>\n",
              "      <th>trans_date</th>\n",
              "      <th>tran_amount</th>\n",
              "    </tr>\n",
              "  </thead>\n",
              "  <tbody>\n",
              "    <tr>\n",
              "      <th>0</th>\n",
              "      <td>CS5295</td>\n",
              "      <td>11-Feb-13</td>\n",
              "      <td>35</td>\n",
              "    </tr>\n",
              "    <tr>\n",
              "      <th>1</th>\n",
              "      <td>CS4768</td>\n",
              "      <td>15-Mar-15</td>\n",
              "      <td>39</td>\n",
              "    </tr>\n",
              "    <tr>\n",
              "      <th>2</th>\n",
              "      <td>CS2122</td>\n",
              "      <td>26-Feb-13</td>\n",
              "      <td>52</td>\n",
              "    </tr>\n",
              "    <tr>\n",
              "      <th>3</th>\n",
              "      <td>CS1217</td>\n",
              "      <td>16-Nov-11</td>\n",
              "      <td>99</td>\n",
              "    </tr>\n",
              "    <tr>\n",
              "      <th>4</th>\n",
              "      <td>CS1850</td>\n",
              "      <td>20-Nov-13</td>\n",
              "      <td>78</td>\n",
              "    </tr>\n",
              "  </tbody>\n",
              "</table>\n",
              "</div>"
            ],
            "text/plain": [
              "  customer_id trans_date  tran_amount\n",
              "0      CS5295  11-Feb-13           35\n",
              "1      CS4768  15-Mar-15           39\n",
              "2      CS2122  26-Feb-13           52\n",
              "3      CS1217  16-Nov-11           99\n",
              "4      CS1850  20-Nov-13           78"
            ]
          },
          "metadata": {
            "tags": []
          },
          "execution_count": 4
        }
      ]
    },
    {
      "cell_type": "markdown",
      "metadata": {
        "id": "MpGdS7mP7k43"
      },
      "source": [
        "## Preparing Dataset"
      ]
    },
    {
      "cell_type": "code",
      "metadata": {
        "id": "wZJoHs00xoSP"
      },
      "source": [
        "retail_transac['trans_date'] = pd.to_datetime(retail_transac['trans_date'])"
      ],
      "execution_count": 5,
      "outputs": []
    },
    {
      "cell_type": "code",
      "metadata": {
        "colab": {
          "base_uri": "https://localhost:8080/",
          "height": 0
        },
        "id": "rgb6dX7-7-ka",
        "outputId": "e860608f-04bb-4167-8d8d-ca477976729c"
      },
      "source": [
        "## since the last date of the data is 16 March 2015, the campaign date is assumed to be 17 March 2015\n",
        "## RFM model will be used to predict campaign response. Recency is calculated\n",
        "\n",
        "campaign_date = dt.datetime(2015,3,17)\n",
        "retail_transac['recent_day'] = campaign_date - retail_transac['trans_date']\n",
        "retail_transac['recent_day'].astype('timedelta64[D]')\n",
        "retail_transac['recent_day'] =retail_transac['recent_day'] / np.timedelta64(1, 'D')\n",
        "retail_transac.head()"
      ],
      "execution_count": 6,
      "outputs": [
        {
          "output_type": "execute_result",
          "data": {
            "text/html": [
              "<div>\n",
              "<style scoped>\n",
              "    .dataframe tbody tr th:only-of-type {\n",
              "        vertical-align: middle;\n",
              "    }\n",
              "\n",
              "    .dataframe tbody tr th {\n",
              "        vertical-align: top;\n",
              "    }\n",
              "\n",
              "    .dataframe thead th {\n",
              "        text-align: right;\n",
              "    }\n",
              "</style>\n",
              "<table border=\"1\" class=\"dataframe\">\n",
              "  <thead>\n",
              "    <tr style=\"text-align: right;\">\n",
              "      <th></th>\n",
              "      <th>customer_id</th>\n",
              "      <th>trans_date</th>\n",
              "      <th>tran_amount</th>\n",
              "      <th>recent_day</th>\n",
              "    </tr>\n",
              "  </thead>\n",
              "  <tbody>\n",
              "    <tr>\n",
              "      <th>0</th>\n",
              "      <td>CS5295</td>\n",
              "      <td>2013-02-11</td>\n",
              "      <td>35</td>\n",
              "      <td>764.0</td>\n",
              "    </tr>\n",
              "    <tr>\n",
              "      <th>1</th>\n",
              "      <td>CS4768</td>\n",
              "      <td>2015-03-15</td>\n",
              "      <td>39</td>\n",
              "      <td>2.0</td>\n",
              "    </tr>\n",
              "    <tr>\n",
              "      <th>2</th>\n",
              "      <td>CS2122</td>\n",
              "      <td>2013-02-26</td>\n",
              "      <td>52</td>\n",
              "      <td>749.0</td>\n",
              "    </tr>\n",
              "    <tr>\n",
              "      <th>3</th>\n",
              "      <td>CS1217</td>\n",
              "      <td>2011-11-16</td>\n",
              "      <td>99</td>\n",
              "      <td>1217.0</td>\n",
              "    </tr>\n",
              "    <tr>\n",
              "      <th>4</th>\n",
              "      <td>CS1850</td>\n",
              "      <td>2013-11-20</td>\n",
              "      <td>78</td>\n",
              "      <td>482.0</td>\n",
              "    </tr>\n",
              "  </tbody>\n",
              "</table>\n",
              "</div>"
            ],
            "text/plain": [
              "  customer_id trans_date  tran_amount  recent_day\n",
              "0      CS5295 2013-02-11           35       764.0\n",
              "1      CS4768 2015-03-15           39         2.0\n",
              "2      CS2122 2013-02-26           52       749.0\n",
              "3      CS1217 2011-11-16           99      1217.0\n",
              "4      CS1850 2013-11-20           78       482.0"
            ]
          },
          "metadata": {
            "tags": []
          },
          "execution_count": 6
        }
      ]
    },
    {
      "cell_type": "code",
      "metadata": {
        "colab": {
          "base_uri": "https://localhost:8080/",
          "height": 0
        },
        "id": "EBpPFccB8N9I",
        "outputId": "276f9a85-00bc-48d0-e138-fe389ca96fe5"
      },
      "source": [
        "retail_transac['recent_month'] = campaign_date - retail_transac['trans_date']\n",
        "retail_transac['recent_month'].astype('timedelta64[M]')\n",
        "retail_transac['recent_month'] = round(retail_transac['recent_month'] / np.timedelta64(1, 'M'),0)\n",
        "retail_transac.head()"
      ],
      "execution_count": 7,
      "outputs": [
        {
          "output_type": "execute_result",
          "data": {
            "text/html": [
              "<div>\n",
              "<style scoped>\n",
              "    .dataframe tbody tr th:only-of-type {\n",
              "        vertical-align: middle;\n",
              "    }\n",
              "\n",
              "    .dataframe tbody tr th {\n",
              "        vertical-align: top;\n",
              "    }\n",
              "\n",
              "    .dataframe thead th {\n",
              "        text-align: right;\n",
              "    }\n",
              "</style>\n",
              "<table border=\"1\" class=\"dataframe\">\n",
              "  <thead>\n",
              "    <tr style=\"text-align: right;\">\n",
              "      <th></th>\n",
              "      <th>customer_id</th>\n",
              "      <th>trans_date</th>\n",
              "      <th>tran_amount</th>\n",
              "      <th>recent_day</th>\n",
              "      <th>recent_month</th>\n",
              "    </tr>\n",
              "  </thead>\n",
              "  <tbody>\n",
              "    <tr>\n",
              "      <th>0</th>\n",
              "      <td>CS5295</td>\n",
              "      <td>2013-02-11</td>\n",
              "      <td>35</td>\n",
              "      <td>764.0</td>\n",
              "      <td>25.0</td>\n",
              "    </tr>\n",
              "    <tr>\n",
              "      <th>1</th>\n",
              "      <td>CS4768</td>\n",
              "      <td>2015-03-15</td>\n",
              "      <td>39</td>\n",
              "      <td>2.0</td>\n",
              "      <td>0.0</td>\n",
              "    </tr>\n",
              "    <tr>\n",
              "      <th>2</th>\n",
              "      <td>CS2122</td>\n",
              "      <td>2013-02-26</td>\n",
              "      <td>52</td>\n",
              "      <td>749.0</td>\n",
              "      <td>25.0</td>\n",
              "    </tr>\n",
              "    <tr>\n",
              "      <th>3</th>\n",
              "      <td>CS1217</td>\n",
              "      <td>2011-11-16</td>\n",
              "      <td>99</td>\n",
              "      <td>1217.0</td>\n",
              "      <td>40.0</td>\n",
              "    </tr>\n",
              "    <tr>\n",
              "      <th>4</th>\n",
              "      <td>CS1850</td>\n",
              "      <td>2013-11-20</td>\n",
              "      <td>78</td>\n",
              "      <td>482.0</td>\n",
              "      <td>16.0</td>\n",
              "    </tr>\n",
              "  </tbody>\n",
              "</table>\n",
              "</div>"
            ],
            "text/plain": [
              "  customer_id trans_date  tran_amount  recent_day  recent_month\n",
              "0      CS5295 2013-02-11           35       764.0          25.0\n",
              "1      CS4768 2015-03-15           39         2.0           0.0\n",
              "2      CS2122 2013-02-26           52       749.0          25.0\n",
              "3      CS1217 2011-11-16           99      1217.0          40.0\n",
              "4      CS1850 2013-11-20           78       482.0          16.0"
            ]
          },
          "metadata": {
            "tags": []
          },
          "execution_count": 7
        }
      ]
    },
    {
      "cell_type": "code",
      "metadata": {
        "id": "-QP57Q-C7Sa8"
      },
      "source": [
        "retail_singleview = retail_transac.groupby('customer_id').agg(total_amount = ('tran_amount', 'sum'),                        # Monetary Value\n",
        "                                                              Median_amount = ('tran_amount', 'median'),                    # Median   \n",
        "                                                              recent_day = ('recent_day', 'min'),                           # Recency (Day)\n",
        "                                                              recent_month = ('recent_month', 'min'),                       # Recency (Month)\n",
        "                                                              frequency = ('customer_id', 'count'),                         # Frequency \n",
        "                                                              AOU = ('trans_date', lambda x: (x.max() - x.min()).days),     # AOU    \n",
        "                                                              std_amount = ('tran_amount', 'std'))\n",
        "\n",
        "retail_singleview['ticket_size'] = round(retail_singleview['total_amount']/retail_singleview['frequency'],2)\n",
        "retail_singleview['std_amount'] = round(retail_singleview['std_amount'],2)"
      ],
      "execution_count": 8,
      "outputs": []
    },
    {
      "cell_type": "code",
      "metadata": {
        "id": "zUb0DYlY940S"
      },
      "source": [
        "retail_singleview = retail_singleview.reset_index()"
      ],
      "execution_count": 9,
      "outputs": []
    },
    {
      "cell_type": "code",
      "metadata": {
        "id": "RSIBdk8vCLl5"
      },
      "source": [
        "retail_respond['customer_id'] = retail_respond['customer_id'].astype(str)"
      ],
      "execution_count": 10,
      "outputs": []
    },
    {
      "cell_type": "code",
      "metadata": {
        "id": "GJe-BtSrBKaj"
      },
      "source": [
        "retail_singleview_full = retail_singleview.merge(retail_respond, on='customer_id')\n"
      ],
      "execution_count": 11,
      "outputs": []
    },
    {
      "cell_type": "code",
      "metadata": {
        "colab": {
          "base_uri": "https://localhost:8080/",
          "height": 0
        },
        "id": "QGcyp1PX7QKr",
        "outputId": "14c410c5-9e62-46ce-cf23-b25bee6d0806"
      },
      "source": [
        "retail_singleview_full.head()"
      ],
      "execution_count": 12,
      "outputs": [
        {
          "output_type": "execute_result",
          "data": {
            "text/html": [
              "<div>\n",
              "<style scoped>\n",
              "    .dataframe tbody tr th:only-of-type {\n",
              "        vertical-align: middle;\n",
              "    }\n",
              "\n",
              "    .dataframe tbody tr th {\n",
              "        vertical-align: top;\n",
              "    }\n",
              "\n",
              "    .dataframe thead th {\n",
              "        text-align: right;\n",
              "    }\n",
              "</style>\n",
              "<table border=\"1\" class=\"dataframe\">\n",
              "  <thead>\n",
              "    <tr style=\"text-align: right;\">\n",
              "      <th></th>\n",
              "      <th>customer_id</th>\n",
              "      <th>total_amount</th>\n",
              "      <th>Median_amount</th>\n",
              "      <th>recent_day</th>\n",
              "      <th>recent_month</th>\n",
              "      <th>frequency</th>\n",
              "      <th>AOU</th>\n",
              "      <th>std_amount</th>\n",
              "      <th>ticket_size</th>\n",
              "      <th>response</th>\n",
              "    </tr>\n",
              "  </thead>\n",
              "  <tbody>\n",
              "    <tr>\n",
              "      <th>0</th>\n",
              "      <td>CS1112</td>\n",
              "      <td>1012</td>\n",
              "      <td>63.0</td>\n",
              "      <td>62.0</td>\n",
              "      <td>2.0</td>\n",
              "      <td>15</td>\n",
              "      <td>1309</td>\n",
              "      <td>19.77</td>\n",
              "      <td>67.47</td>\n",
              "      <td>0</td>\n",
              "    </tr>\n",
              "    <tr>\n",
              "      <th>1</th>\n",
              "      <td>CS1113</td>\n",
              "      <td>1490</td>\n",
              "      <td>79.5</td>\n",
              "      <td>36.0</td>\n",
              "      <td>1.0</td>\n",
              "      <td>20</td>\n",
              "      <td>1354</td>\n",
              "      <td>21.25</td>\n",
              "      <td>74.50</td>\n",
              "      <td>0</td>\n",
              "    </tr>\n",
              "    <tr>\n",
              "      <th>2</th>\n",
              "      <td>CS1114</td>\n",
              "      <td>1432</td>\n",
              "      <td>79.0</td>\n",
              "      <td>33.0</td>\n",
              "      <td>1.0</td>\n",
              "      <td>19</td>\n",
              "      <td>1309</td>\n",
              "      <td>21.34</td>\n",
              "      <td>75.37</td>\n",
              "      <td>1</td>\n",
              "    </tr>\n",
              "    <tr>\n",
              "      <th>3</th>\n",
              "      <td>CS1115</td>\n",
              "      <td>1659</td>\n",
              "      <td>72.5</td>\n",
              "      <td>12.0</td>\n",
              "      <td>0.0</td>\n",
              "      <td>22</td>\n",
              "      <td>1303</td>\n",
              "      <td>18.15</td>\n",
              "      <td>75.41</td>\n",
              "      <td>1</td>\n",
              "    </tr>\n",
              "    <tr>\n",
              "      <th>4</th>\n",
              "      <td>CS1116</td>\n",
              "      <td>857</td>\n",
              "      <td>60.0</td>\n",
              "      <td>204.0</td>\n",
              "      <td>7.0</td>\n",
              "      <td>13</td>\n",
              "      <td>1155</td>\n",
              "      <td>22.94</td>\n",
              "      <td>65.92</td>\n",
              "      <td>1</td>\n",
              "    </tr>\n",
              "  </tbody>\n",
              "</table>\n",
              "</div>"
            ],
            "text/plain": [
              "  customer_id  total_amount  Median_amount  ...  std_amount  ticket_size  response\n",
              "0      CS1112          1012           63.0  ...       19.77        67.47         0\n",
              "1      CS1113          1490           79.5  ...       21.25        74.50         0\n",
              "2      CS1114          1432           79.0  ...       21.34        75.37         1\n",
              "3      CS1115          1659           72.5  ...       18.15        75.41         1\n",
              "4      CS1116           857           60.0  ...       22.94        65.92         1\n",
              "\n",
              "[5 rows x 10 columns]"
            ]
          },
          "metadata": {
            "tags": []
          },
          "execution_count": 12
        }
      ]
    },
    {
      "cell_type": "code",
      "metadata": {
        "colab": {
          "base_uri": "https://localhost:8080/",
          "height": 0
        },
        "id": "NjbyYmXHBE-D",
        "outputId": "4271c6d6-dc91-4c1a-a22a-285072a97f15"
      },
      "source": [
        "retail_respond_summary = retail_singleview_full.groupby('response').agg(no_customer = ('customer_id', 'count')).reset_index()\n",
        "retail_respond_summary.head()"
      ],
      "execution_count": 13,
      "outputs": [
        {
          "output_type": "execute_result",
          "data": {
            "text/html": [
              "<div>\n",
              "<style scoped>\n",
              "    .dataframe tbody tr th:only-of-type {\n",
              "        vertical-align: middle;\n",
              "    }\n",
              "\n",
              "    .dataframe tbody tr th {\n",
              "        vertical-align: top;\n",
              "    }\n",
              "\n",
              "    .dataframe thead th {\n",
              "        text-align: right;\n",
              "    }\n",
              "</style>\n",
              "<table border=\"1\" class=\"dataframe\">\n",
              "  <thead>\n",
              "    <tr style=\"text-align: right;\">\n",
              "      <th></th>\n",
              "      <th>response</th>\n",
              "      <th>no_customer</th>\n",
              "    </tr>\n",
              "  </thead>\n",
              "  <tbody>\n",
              "    <tr>\n",
              "      <th>0</th>\n",
              "      <td>0</td>\n",
              "      <td>6237</td>\n",
              "    </tr>\n",
              "    <tr>\n",
              "      <th>1</th>\n",
              "      <td>1</td>\n",
              "      <td>647</td>\n",
              "    </tr>\n",
              "  </tbody>\n",
              "</table>\n",
              "</div>"
            ],
            "text/plain": [
              "   response  no_customer\n",
              "0         0         6237\n",
              "1         1          647"
            ]
          },
          "metadata": {
            "tags": []
          },
          "execution_count": 13
        }
      ]
    },
    {
      "cell_type": "markdown",
      "metadata": {
        "id": "cpSuJ3Z0FE7E"
      },
      "source": [
        "## Create Train Test "
      ]
    },
    {
      "cell_type": "code",
      "metadata": {
        "id": "LiILbbYDCwk9"
      },
      "source": [
        "X_retail_singleview_full = retail_singleview_full.drop(columns=['response','customer_id'])\n",
        "y_retail_singleview_full = retail_singleview_full['response']"
      ],
      "execution_count": 14,
      "outputs": []
    },
    {
      "cell_type": "code",
      "metadata": {
        "id": "tayQnfm_FHcc"
      },
      "source": [
        "X_train, X_test, y_train, y_test = train_test_split(X_retail_singleview_full, y_retail_singleview_full, test_size=0.3, random_state=2929)"
      ],
      "execution_count": 15,
      "outputs": []
    },
    {
      "cell_type": "code",
      "metadata": {
        "colab": {
          "base_uri": "https://localhost:8080/"
        },
        "id": "jK5vaFEqFXlO",
        "outputId": "b1ac5945-07e5-4de0-8ab5-a3022867bdf7"
      },
      "source": [
        "sm = SMOTE(random_state=2929)\n",
        "\n",
        "sm.fit(X_train, y_train)\n",
        "X_SMOTE, y_SMOTE = sm.fit_sample(X_train, y_train)"
      ],
      "execution_count": 16,
      "outputs": [
        {
          "output_type": "stream",
          "text": [
            "/usr/local/lib/python3.7/dist-packages/sklearn/utils/deprecation.py:87: FutureWarning: Function safe_indexing is deprecated; safe_indexing is deprecated in version 0.22 and will be removed in version 0.24.\n",
            "  warnings.warn(msg, category=FutureWarning)\n"
          ],
          "name": "stderr"
        }
      ]
    },
    {
      "cell_type": "markdown",
      "metadata": {
        "id": "xjYpB8CeGCKs"
      },
      "source": [
        "## Logistic Regression"
      ]
    },
    {
      "cell_type": "markdown",
      "metadata": {
        "id": "jdrPU-GtGqaM"
      },
      "source": [
        "### Without SMOTE"
      ]
    },
    {
      "cell_type": "code",
      "metadata": {
        "colab": {
          "base_uri": "https://localhost:8080/"
        },
        "id": "8jTs9wGUF4f3",
        "outputId": "1de694b9-6f19-4ef6-fc38-21024852b327"
      },
      "source": [
        "print('logistic regression model - Normal')\n",
        "logreg = LogisticRegression(solver='liblinear', class_weight='balanced')\n",
        "predicted_y = []\n",
        "expected_y = []\n",
        "\n",
        "logreg_model = logreg.fit(X_train, y_train)\n",
        "predictions = logreg_model.predict(X_train)\n",
        "predicted_y.extend(predictions)\n",
        "expected_y.extend(y_train)\n",
        "report_train = classification_report(expected_y, predicted_y)\n",
        "print('training set')\n",
        "print(report_train) \n",
        "\n",
        "predicted_y = []\n",
        "expected_y = []\n",
        "predictions = logreg_model.predict(X_test)\n",
        "predicted_y.extend(predictions)\n",
        "expected_y.extend(y_test)\n",
        "report_test = classification_report(expected_y, predicted_y)\n",
        "print('test set')\n",
        "print(report_test) "
      ],
      "execution_count": 17,
      "outputs": [
        {
          "output_type": "stream",
          "text": [
            "logistic regression model - Normal\n",
            "training set\n",
            "              precision    recall  f1-score   support\n",
            "\n",
            "           0       0.96      0.63      0.76      4377\n",
            "           1       0.16      0.71      0.26       441\n",
            "\n",
            "    accuracy                           0.64      4818\n",
            "   macro avg       0.56      0.67      0.51      4818\n",
            "weighted avg       0.88      0.64      0.71      4818\n",
            "\n",
            "test set\n",
            "              precision    recall  f1-score   support\n",
            "\n",
            "           0       0.95      0.62      0.75      1860\n",
            "           1       0.17      0.68      0.27       206\n",
            "\n",
            "    accuracy                           0.63      2066\n",
            "   macro avg       0.56      0.65      0.51      2066\n",
            "weighted avg       0.87      0.63      0.70      2066\n",
            "\n"
          ],
          "name": "stdout"
        }
      ]
    },
    {
      "cell_type": "code",
      "metadata": {
        "colab": {
          "base_uri": "https://localhost:8080/",
          "height": 265
        },
        "id": "inOs4MOmLJ22",
        "outputId": "e945c0dd-7631-4049-c28e-12700b606a73"
      },
      "source": [
        "y_score_train = logreg_model.predict_proba(X_train)\n",
        "fpr_train, tpr_train, _ = roc_curve(y_train,  y_score_train[:,1])\n",
        "auc_train = roc_auc_score(y_train, y_score_train[:,1])\n",
        "plt.plot(fpr_train,tpr_train, color='red', label='SMOTE - train , auc='+str(auc_train))\n",
        "\n",
        "y_score_test = logreg_model.predict_proba(X_test.to_numpy())\n",
        "fpr_test, tpr_test, _ = roc_curve(y_test,  y_score_test[:,1])\n",
        "auc_test = roc_auc_score(y_test, y_score_test[:,1])\n",
        "plt.plot(fpr_test,tpr_test, color='Blue', label='SMOTE - test , auc='+str(auc_test))\n",
        "\n",
        "plt.plot([0, 1], [0, 1], color='navy', lw=2, linestyle='--')\n",
        "plt.legend(loc=4)\n",
        "plt.show()"
      ],
      "execution_count": 37,
      "outputs": [
        {
          "output_type": "display_data",
          "data": {
            "image/png": "[encoded data removed]",
            "text/plain": [
              "<Figure size 432x288 with 1 Axes>"
            ]
          },
          "metadata": {
            "tags": [],
            "needs_background": "light"
          }
        }
      ]
    },
    {
      "cell_type": "markdown",
      "metadata": {
        "id": "W8NlRxRMGuPg"
      },
      "source": [
        "### With SMOTE"
      ]
    },
    {
      "cell_type": "code",
      "metadata": {
        "colab": {
          "base_uri": "https://localhost:8080/"
        },
        "id": "ejEWOU6mGBmA",
        "outputId": "17f9c843-1de6-46eb-8f20-5944a8bd1d85"
      },
      "source": [
        "print('logistic regression model - SMOTE')\n",
        "logreg = LogisticRegression(solver='liblinear', class_weight='balanced')\n",
        "predicted_y = []\n",
        "expected_y = []\n",
        "\n",
        "logreg_model_SMOTE = logreg.fit(X_SMOTE, y_SMOTE)\n",
        "predictions = logreg_model_SMOTE.predict(X_SMOTE)\n",
        "predicted_y.extend(predictions)\n",
        "expected_y.extend(y_SMOTE)\n",
        "report_train = classification_report(expected_y, predicted_y)\n",
        "print('training set')\n",
        "print(report_train) \n",
        "\n",
        "predicted_y = []\n",
        "expected_y = []\n",
        "predictions = logreg_model_SMOTE.predict(X_test)\n",
        "predicted_y.extend(predictions)\n",
        "expected_y.extend(y_test)\n",
        "report_test = classification_report(expected_y, predicted_y)\n",
        "print('test set')\n",
        "print(report_test) "
      ],
      "execution_count": 18,
      "outputs": [
        {
          "output_type": "stream",
          "text": [
            "logistic regression model - SMOTE\n",
            "training set\n",
            "              precision    recall  f1-score   support\n",
            "\n",
            "           0       0.68      0.64      0.66      4377\n",
            "           1       0.66      0.70      0.68      4377\n",
            "\n",
            "    accuracy                           0.67      8754\n",
            "   macro avg       0.67      0.67      0.67      8754\n",
            "weighted avg       0.67      0.67      0.67      8754\n",
            "\n",
            "test set\n",
            "              precision    recall  f1-score   support\n",
            "\n",
            "           0       0.94      0.63      0.75      1860\n",
            "           1       0.17      0.67      0.27       206\n",
            "\n",
            "    accuracy                           0.63      2066\n",
            "   macro avg       0.56      0.65      0.51      2066\n",
            "weighted avg       0.87      0.63      0.70      2066\n",
            "\n"
          ],
          "name": "stdout"
        }
      ]
    },
    {
      "cell_type": "code",
      "metadata": {
        "colab": {
          "base_uri": "https://localhost:8080/",
          "height": 265
        },
        "id": "csGa4KwELirY",
        "outputId": "ba2ce339-4642-4b56-a85b-9403ba3dbf01"
      },
      "source": [
        "y_score_train = logreg_model_SMOTE.predict_proba(X_SMOTE)\n",
        "fpr_train, tpr_train, _ = roc_curve(y_SMOTE,  y_score_train[:,1])\n",
        "auc_train = roc_auc_score(y_SMOTE, y_score_train[:,1])\n",
        "plt.plot(fpr_train,tpr_train, color='red', label='SMOTE - train , auc='+str(auc_train))\n",
        "\n",
        "y_score_test = logreg_model_SMOTE.predict_proba(X_test.to_numpy())\n",
        "fpr_test, tpr_test, _ = roc_curve(y_test,  y_score_test[:,1])\n",
        "auc_test = roc_auc_score(y_test, y_score_test[:,1])\n",
        "plt.plot(fpr_test,tpr_test, color='Blue', label='SMOTE - test , auc='+str(auc_test))\n",
        "\n",
        "plt.plot([0, 1], [0, 1], color='navy', lw=2, linestyle='--')\n",
        "plt.legend(loc=4)\n",
        "plt.show()"
      ],
      "execution_count": 38,
      "outputs": [
        {
          "output_type": "display_data",
          "data": {
            "image/png": "[encoded data removed]",
            "text/plain": [
              "<Figure size 432x288 with 1 Axes>"
            ]
          },
          "metadata": {
            "tags": [],
            "needs_background": "light"
          }
        }
      ]
    },
    {
      "cell_type": "markdown",
      "metadata": {
        "id": "k8fwaTVlGwLa"
      },
      "source": [
        "## XGBoost"
      ]
    },
    {
      "cell_type": "markdown",
      "metadata": {
        "id": "BEeEDKCDHyH5"
      },
      "source": [
        "### XGBoost With SMOTE"
      ]
    },
    {
      "cell_type": "code",
      "metadata": {
        "colab": {
          "base_uri": "https://localhost:8080/"
        },
        "id": "c-5PB8oJHxe5",
        "outputId": "5f536079-66d8-44e3-dd79-4fbadd6f324f"
      },
      "source": [
        "print('XGBoost model - SMOTE')\n",
        "\n",
        "xgb_model = xgb.XGBClassifier(objective='binary:logistic', eval_metric='auc',\n",
        "                              learning_rate =0.02,\n",
        "                              n_estimators=100,\n",
        "                              max_depth=2,\n",
        "                              gamma=0.0,\n",
        "                              colsample_bytree=0.6)\n",
        "\n",
        "predicted_y = []\n",
        "expected_y = []\n",
        "\n",
        "xgb_model_SMOTE = xgb_model.fit(X_SMOTE, y_SMOTE, early_stopping_rounds=5, eval_set=[(X_test.to_numpy(), y_test)])\n",
        "predictions =  xgb_model_SMOTE.predict(X_SMOTE)\n",
        "predicted_y.extend(predictions)\n",
        "expected_y.extend(y_SMOTE)\n",
        "report_train = classification_report(expected_y, predicted_y)\n",
        "print('training set')\n",
        "print(report_train) \n",
        "\n",
        "predicted_y = []\n",
        "expected_y = []\n",
        "predictions = xgb_model_SMOTE.predict(X_test.to_numpy())\n",
        "predicted_y.extend(predictions)\n",
        "expected_y.extend(y_test)\n",
        "report_test = classification_report(expected_y, predicted_y)\n",
        "print('test set')\n",
        "print(report_test) "
      ],
      "execution_count": 19,
      "outputs": [
        {
          "output_type": "stream",
          "text": [
            "XGBoost model - SMOTE\n",
            "[0]\tvalidation_0-auc:0.685758\n",
            "Will train until validation_0-auc hasn't improved in 5 rounds.\n",
            "[1]\tvalidation_0-auc:0.697668\n",
            "[2]\tvalidation_0-auc:0.704075\n",
            "[3]\tvalidation_0-auc:0.702943\n",
            "[4]\tvalidation_0-auc:0.70265\n",
            "[5]\tvalidation_0-auc:0.702291\n",
            "[6]\tvalidation_0-auc:0.699581\n",
            "[7]\tvalidation_0-auc:0.715265\n",
            "[8]\tvalidation_0-auc:0.71609\n",
            "[9]\tvalidation_0-auc:0.717439\n",
            "[10]\tvalidation_0-auc:0.718054\n",
            "[11]\tvalidation_0-auc:0.71678\n",
            "[12]\tvalidation_0-auc:0.722292\n",
            "[13]\tvalidation_0-auc:0.722187\n",
            "[14]\tvalidation_0-auc:0.726309\n",
            "[15]\tvalidation_0-auc:0.726048\n",
            "[16]\tvalidation_0-auc:0.725341\n",
            "[17]\tvalidation_0-auc:0.72701\n",
            "[18]\tvalidation_0-auc:0.727594\n",
            "[19]\tvalidation_0-auc:0.727312\n",
            "[20]\tvalidation_0-auc:0.727072\n",
            "[21]\tvalidation_0-auc:0.72714\n",
            "[22]\tvalidation_0-auc:0.727085\n",
            "[23]\tvalidation_0-auc:0.725073\n",
            "Stopping. Best iteration:\n",
            "[18]\tvalidation_0-auc:0.727594\n",
            "\n",
            "training set\n",
            "              precision    recall  f1-score   support\n",
            "\n",
            "           0       0.76      0.63      0.69      4377\n",
            "           1       0.69      0.80      0.74      4377\n",
            "\n",
            "    accuracy                           0.72      8754\n",
            "   macro avg       0.72      0.72      0.71      8754\n",
            "weighted avg       0.72      0.72      0.71      8754\n",
            "\n",
            "test set\n",
            "              precision    recall  f1-score   support\n",
            "\n",
            "           0       0.95      0.62      0.75      1860\n",
            "           1       0.18      0.72      0.28       206\n",
            "\n",
            "    accuracy                           0.63      2066\n",
            "   macro avg       0.56      0.67      0.52      2066\n",
            "weighted avg       0.88      0.63      0.71      2066\n",
            "\n"
          ],
          "name": "stdout"
        }
      ]
    },
    {
      "cell_type": "code",
      "metadata": {
        "colab": {
          "base_uri": "https://localhost:8080/",
          "height": 265
        },
        "id": "g4Lc31B4Lqiv",
        "outputId": "91acacd1-0190-426d-8014-ccc8aaea92ba"
      },
      "source": [
        "y_score_train = xgb_model_SMOTE.predict_proba(X_SMOTE)\n",
        "fpr_train, tpr_train, _ = roc_curve(y_SMOTE,  y_score_train[:,1])\n",
        "auc_train = roc_auc_score(y_SMOTE, y_score_train[:,1])\n",
        "plt.plot(fpr_train,tpr_train, color='red', label='SMOTE - train , auc='+str(auc_train))\n",
        "\n",
        "y_score_test = xgb_model_SMOTE.predict_proba(X_test.to_numpy())\n",
        "fpr_test, tpr_test, _ = roc_curve(y_test,  y_score_test[:,1])\n",
        "auc_test = roc_auc_score(y_test, y_score_test[:,1])\n",
        "plt.plot(fpr_test,tpr_test, color='Blue', label='SMOTE - test , auc='+str(auc_test))\n",
        "\n",
        "plt.plot([0, 1], [0, 1], color='navy', lw=2, linestyle='--')\n",
        "plt.legend(loc=4)\n",
        "plt.show()"
      ],
      "execution_count": 44,
      "outputs": [
        {
          "output_type": "display_data",
          "data": {
            "image/png": "[encoded data removed]",
            "text/plain": [
              "<Figure size 432x288 with 1 Axes>"
            ]
          },
          "metadata": {
            "tags": [],
            "needs_background": "light"
          }
        }
      ]
    },
    {
      "cell_type": "markdown",
      "metadata": {
        "id": "f0g_aMsPIMoC"
      },
      "source": [
        "### Weighted XGBoost for Class Imbalance\n",
        "\n",
        "reference : https://machinelearningmastery.com/xgboost-for-imbalanced-classification/"
      ]
    },
    {
      "cell_type": "code",
      "metadata": {
        "colab": {
          "base_uri": "https://localhost:8080/"
        },
        "id": "wx1ineoHGk9p",
        "outputId": "e73e3746-5cbb-4695-d6e7-b58e642b5c24"
      },
      "source": [
        "print('XGBoost model - Weighted for Class Imbalance')\n",
        "\n",
        "xgb_model = xgb.XGBClassifier(scale_pos_weight=20,eval_metric='auc')\n",
        "                              # objective='binary:logistic', \n",
        "                              # learning_rate =0.02,\n",
        "                              # n_estimators=100,\n",
        "                              # max_depth=2,\n",
        "                              # gamma=0.0,\n",
        "                              # colsample_bytree=0.6)\n",
        "\n",
        "predicted_y = []\n",
        "expected_y = []\n",
        "\n",
        "xgb_model.fit(X_train, y_train, early_stopping_rounds=5, eval_set=[(X_test, y_test)])\n",
        "predictions =  xgb_model.predict(X_train)\n",
        "predicted_y.extend(predictions)\n",
        "expected_y.extend(y_train)\n",
        "report_train = classification_report(expected_y, predicted_y)\n",
        "print('training set')\n",
        "print(report_train) \n",
        "\n",
        "predicted_y = []\n",
        "expected_y = []\n",
        "predictions = xgb_model.predict(X_test)\n",
        "predicted_y.extend(predictions)\n",
        "expected_y.extend(y_test)\n",
        "report_test = classification_report(expected_y, predicted_y)\n",
        "print('test set')\n",
        "print(report_test) "
      ],
      "execution_count": 43,
      "outputs": [
        {
          "output_type": "stream",
          "text": [
            "XGBoost model - Weighted for Class Imbalance\n",
            "[0]\tvalidation_0-auc:0.705522\n",
            "Will train until validation_0-auc hasn't improved in 5 rounds.\n",
            "[1]\tvalidation_0-auc:0.698622\n",
            "[2]\tvalidation_0-auc:0.706591\n",
            "[3]\tvalidation_0-auc:0.707976\n",
            "[4]\tvalidation_0-auc:0.706959\n",
            "[5]\tvalidation_0-auc:0.713458\n",
            "[6]\tvalidation_0-auc:0.712815\n",
            "[7]\tvalidation_0-auc:0.713139\n",
            "[8]\tvalidation_0-auc:0.718124\n",
            "[9]\tvalidation_0-auc:0.71637\n",
            "[10]\tvalidation_0-auc:0.71746\n",
            "[11]\tvalidation_0-auc:0.719712\n",
            "[12]\tvalidation_0-auc:0.722393\n",
            "[13]\tvalidation_0-auc:0.722951\n",
            "[14]\tvalidation_0-auc:0.723424\n",
            "[15]\tvalidation_0-auc:0.722933\n",
            "[16]\tvalidation_0-auc:0.723069\n",
            "[17]\tvalidation_0-auc:0.72403\n",
            "[18]\tvalidation_0-auc:0.726408\n",
            "[19]\tvalidation_0-auc:0.726088\n",
            "[20]\tvalidation_0-auc:0.725517\n",
            "[21]\tvalidation_0-auc:0.724877\n",
            "[22]\tvalidation_0-auc:0.72254\n",
            "[23]\tvalidation_0-auc:0.72311\n",
            "Stopping. Best iteration:\n",
            "[18]\tvalidation_0-auc:0.726408\n",
            "\n",
            "training set\n",
            "              precision    recall  f1-score   support\n",
            "\n",
            "           0       0.99      0.43      0.60      4377\n",
            "           1       0.14      0.95      0.25       441\n",
            "\n",
            "    accuracy                           0.48      4818\n",
            "   macro avg       0.57      0.69      0.43      4818\n",
            "weighted avg       0.91      0.48      0.57      4818\n",
            "\n",
            "test set\n",
            "              precision    recall  f1-score   support\n",
            "\n",
            "           0       0.98      0.42      0.59      1860\n",
            "           1       0.15      0.91      0.26       206\n",
            "\n",
            "    accuracy                           0.47      2066\n",
            "   macro avg       0.56      0.67      0.42      2066\n",
            "weighted avg       0.89      0.47      0.55      2066\n",
            "\n"
          ],
          "name": "stdout"
        }
      ]
    },
    {
      "cell_type": "code",
      "metadata": {
        "colab": {
          "base_uri": "https://localhost:8080/",
          "height": 265
        },
        "id": "eEc0_5I7MDny",
        "outputId": "6aba6898-3769-48c4-bcb2-82f5050d5f2e"
      },
      "source": [
        "y_score_train = xgb_model.predict_proba(X_train)\n",
        "fpr_train, tpr_train, _ = roc_curve(y_train,  y_score_train[:,1])\n",
        "auc_train = roc_auc_score(y_train, y_score_train[:,1])\n",
        "plt.plot(fpr_train,tpr_train, color='red', label='SMOTE - train , auc='+str(auc_train))\n",
        "\n",
        "y_score_test = xgb_model.predict_proba(X_test)\n",
        "fpr_test, tpr_test, _ = roc_curve(y_test,  y_score_test[:,1])\n",
        "auc_test = roc_auc_score(y_test, y_score_test[:,1])\n",
        "plt.plot(fpr_test,tpr_test, color='Blue', label='SMOTE - test , auc='+str(auc_test))\n",
        "\n",
        "plt.plot([0, 1], [0, 1], color='navy', lw=2, linestyle='--')\n",
        "plt.legend(loc=4)\n",
        "plt.show()"
      ],
      "execution_count": 45,
      "outputs": [
        {
          "output_type": "display_data",
          "data": {
            "image/png": "[encoded data removed]",
            "text/plain": [
              "<Figure size 432x288 with 1 Axes>"
            ]
          },
          "metadata": {
            "tags": [],
            "needs_background": "light"
          }
        }
      ]
    }
  ]
}